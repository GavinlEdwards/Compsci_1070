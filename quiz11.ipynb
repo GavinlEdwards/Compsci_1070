{
 "cells": [
  {
   "cell_type": "code",
   "execution_count": 25,
   "id": "65ed63d5-7ade-4b15-808e-37b338a2f190",
   "metadata": {},
   "outputs": [
    {
     "name": "stdout",
     "output_type": "stream",
     "text": [
      "['a', 'b']\n"
     ]
    }
   ],
   "source": [
    "def filter(values):\n",
    "    new_values = []\n",
    "    for x in values:\n",
    "        if not isinstance(x, (int,float)):\n",
    "            new_values.append(x)\n",
    "    return new_values\n",
    "values_of = [1,2,'a','b',7.6]\n",
    "a = filter(values_of)\n",
    "print(a)"
   ]
  },
  {
   "cell_type": "code",
   "execution_count": 33,
   "id": "c5bb43bb-811a-4a65-85eb-02a097c6bbba",
   "metadata": {},
   "outputs": [
    {
     "name": "stdout",
     "output_type": "stream",
     "text": [
      "1\n",
      "2\n",
      "3 fizz\n",
      "4\n",
      "5 buzz\n",
      "6 fizz\n",
      "7\n",
      "8\n",
      "9 fizz\n",
      "10 buzz\n",
      "11\n",
      "12 fizz\n",
      "13\n",
      "14\n",
      "15 fizzbuzz\n",
      "16\n",
      "17\n",
      "18 fizz\n",
      "19\n",
      "20 buzz\n",
      "21 fizz\n",
      "22\n",
      "23\n",
      "24 fizz\n",
      "25 buzz\n",
      "26\n",
      "27 fizz\n",
      "28\n",
      "29\n",
      "30 fizzbuzz\n",
      "31\n",
      "32\n",
      "33 fizz\n",
      "34\n",
      "35 buzz\n",
      "36 fizz\n",
      "37\n",
      "38\n",
      "39 fizz\n",
      "40 buzz\n",
      "41\n",
      "42 fizz\n",
      "43\n",
      "44\n",
      "45 fizzbuzz\n",
      "46\n",
      "47\n",
      "48 fizz\n",
      "49\n",
      "50 buzz\n",
      "51 fizz\n",
      "52\n",
      "53\n",
      "54 fizz\n",
      "55 buzz\n",
      "56\n",
      "57 fizz\n",
      "58\n",
      "59\n",
      "60 fizzbuzz\n",
      "61\n",
      "62\n",
      "63 fizz\n",
      "64\n",
      "65 buzz\n",
      "66 fizz\n",
      "67\n",
      "68\n",
      "69 fizz\n",
      "70 buzz\n",
      "71\n",
      "72 fizz\n",
      "73\n"
     ]
    }
   ],
   "source": [
    "def number(a:int):\n",
    "    '''For every number from 0 to input prints the number and; fizzbuzz if it's divisible by 3 and 5, fizz if it's divisible by 3 and buzz if it's divisible by 5'''\n",
    "    \n",
    "    count = 1;\n",
    "    while (count<=a):\n",
    "        if(count%3==0 and count%5==0): # tests if divisible by both\n",
    "            print(count,'fizzbuzz');\n",
    "        elif(count%3==0): # tests if divisble by 3\n",
    "            print(count,'fizz');\n",
    "        elif(count%5==0): # tests if divisible by 5\n",
    "            print(count,'buzz');\n",
    "        else:\n",
    "            print(count)\n",
    "        count+=1;\n",
    "number(73)"
   ]
  },
  {
   "cell_type": "code",
   "execution_count": null,
   "id": "3fd7fb74-c0a1-462a-870d-416b03c5b519",
   "metadata": {},
   "outputs": [],
   "source": []
  }
 ],
 "metadata": {
  "kernelspec": {
   "display_name": "Python 3 (ipykernel)",
   "language": "python",
   "name": "python3"
  },
  "language_info": {
   "codemirror_mode": {
    "name": "ipython",
    "version": 3
   },
   "file_extension": ".py",
   "mimetype": "text/x-python",
   "name": "python",
   "nbconvert_exporter": "python",
   "pygments_lexer": "ipython3",
   "version": "3.9.1"
  }
 },
 "nbformat": 4,
 "nbformat_minor": 5
}
