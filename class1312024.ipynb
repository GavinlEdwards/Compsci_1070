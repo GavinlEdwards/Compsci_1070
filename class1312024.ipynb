{
 "cells": [
  {
   "cell_type": "code",
   "execution_count": 4,
   "id": "04057bd9-9737-4e38-b56e-c843b58ab1b7",
   "metadata": {},
   "outputs": [
    {
     "data": {
      "text/html": [
       "<div>\n",
       "<style scoped>\n",
       "    .dataframe tbody tr th:only-of-type {\n",
       "        vertical-align: middle;\n",
       "    }\n",
       "\n",
       "    .dataframe tbody tr th {\n",
       "        vertical-align: top;\n",
       "    }\n",
       "\n",
       "    .dataframe thead th {\n",
       "        text-align: right;\n",
       "    }\n",
       "</style>\n",
       "<table border=\"1\" class=\"dataframe\">\n",
       "  <thead>\n",
       "    <tr style=\"text-align: right;\">\n",
       "      <th></th>\n",
       "      <th>Car;MPG;Cylinders;Displacement;Horsepower;Weight;Acceleration;Model;Origin</th>\n",
       "    </tr>\n",
       "  </thead>\n",
       "  <tbody>\n",
       "    <tr>\n",
       "      <th>0</th>\n",
       "      <td>Chevrolet Chevelle Malibu;18.0;8;307.0;130.0;3...</td>\n",
       "    </tr>\n",
       "    <tr>\n",
       "      <th>1</th>\n",
       "      <td>Buick Skylark 320;15.0;8;350.0;165.0;3693.;11....</td>\n",
       "    </tr>\n",
       "    <tr>\n",
       "      <th>2</th>\n",
       "      <td>Plymouth Satellite;18.0;8;318.0;150.0;3436.;11...</td>\n",
       "    </tr>\n",
       "    <tr>\n",
       "      <th>3</th>\n",
       "      <td>AMC Rebel SST;16.0;8;304.0;150.0;3433.;12.0;70;US</td>\n",
       "    </tr>\n",
       "    <tr>\n",
       "      <th>4</th>\n",
       "      <td>Ford Torino;17.0;8;302.0;140.0;3449.;10.5;70;US</td>\n",
       "    </tr>\n",
       "  </tbody>\n",
       "</table>\n",
       "</div>"
      ],
      "text/plain": [
       "  Car;MPG;Cylinders;Displacement;Horsepower;Weight;Acceleration;Model;Origin\n",
       "0  Chevrolet Chevelle Malibu;18.0;8;307.0;130.0;3...                        \n",
       "1  Buick Skylark 320;15.0;8;350.0;165.0;3693.;11....                        \n",
       "2  Plymouth Satellite;18.0;8;318.0;150.0;3436.;11...                        \n",
       "3  AMC Rebel SST;16.0;8;304.0;150.0;3433.;12.0;70;US                        \n",
       "4    Ford Torino;17.0;8;302.0;140.0;3449.;10.5;70;US                        "
      ]
     },
     "execution_count": 4,
     "metadata": {},
     "output_type": "execute_result"
    }
   ],
   "source": [
    "import pandas as pd\n",
    "csv_df = pd.read_csv('cars.csv')\n",
    "\n",
    "csv_df.head()"
   ]
  },
  {
   "cell_type": "code",
   "execution_count": 18,
   "id": "b1f58b48-14b7-4b03-b7e7-95b9a00fbd1d",
   "metadata": {},
   "outputs": [
    {
     "name": "stdout",
     "output_type": "stream",
     "text": [
      "2 (2, 3) float32\n",
      "3 (2, 2, 3)\n",
      "6 (1, 1, 1, 1, 1, 3)\n"
     ]
    }
   ],
   "source": [
    "import numpy as np\n",
    "a = np.array([[1,2,3],[4,5,6]],dtype=np.float32)\n",
    "print (a.ndim, a.shape, a.dtype)\n",
    "b = np.array([[[1,2,3],[4,5,6]],[[7,8,9],[0,1,2]]],dtype=np.float32)\n",
    "print (b.ndim, b.shape)\n",
    "c = np.array([4,5,6], ndmin=6)\n",
    "print (c.ndim, c.shape)"
   ]
  },
  {
   "cell_type": "code",
   "execution_count": 30,
   "id": "8fdceb87-2694-4100-8d30-568920757c89",
   "metadata": {},
   "outputs": [
    {
     "name": "stdout",
     "output_type": "stream",
     "text": [
      "[1 2 3 4 5 6]\n",
      "[[1 2]\n",
      " [3 4]\n",
      " [5 6]]\n",
      "[[1 2 3]\n",
      " [4 5 6]]\n",
      "[1 2 3 4 5 6]\n",
      "break\n",
      "[[0 1]\n",
      " [2 3]\n",
      " [4 5]\n",
      " [6 7]\n",
      " [8 9]]\n",
      "[[0 2 4 6 8]\n",
      " [1 3 5 7 9]]\n",
      "[[0 1]\n",
      " [2 3]\n",
      " [4 5]\n",
      " [6 7]\n",
      " [8 9]]\n",
      "break\n",
      "[[0.         1.        ]\n",
      " [1.41421356 1.73205081]\n",
      " [2.         2.23606798]\n",
      " [2.44948974 2.64575131]\n",
      " [2.82842712 3.        ]]\n"
     ]
    }
   ],
   "source": [
    "a = np.array([1,2,3,4,5,6])\n",
    "print (a)\n",
    "a = a.reshape(3,2)\n",
    "print (a)\n",
    "a = a.reshape(2,-1)\n",
    "print (a)\n",
    "a = a.ravel()\n",
    "print (a)\n",
    "print ('break')\n",
    "a = np.arange(10).reshape(5,2)\n",
    "print (a)\n",
    "a = a.T\n",
    "print (a)\n",
    "a = a.transpose((1,0))\n",
    "print (a)\n",
    "print ('break')\n",
    "print (np.sqrt(a))"
   ]
  },
  {
   "cell_type": "code",
   "execution_count": null,
   "id": "39cd336d-f9bb-4fa4-be3e-7f46fb00132b",
   "metadata": {},
   "outputs": [],
   "source": []
  }
 ],
 "metadata": {
  "kernelspec": {
   "display_name": "Python 3 (ipykernel)",
   "language": "python",
   "name": "python3"
  },
  "language_info": {
   "codemirror_mode": {
    "name": "ipython",
    "version": 3
   },
   "file_extension": ".py",
   "mimetype": "text/x-python",
   "name": "python",
   "nbconvert_exporter": "python",
   "pygments_lexer": "ipython3",
   "version": "3.9.1"
  }
 },
 "nbformat": 4,
 "nbformat_minor": 5
}
