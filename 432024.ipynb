{
 "cells": [
  {
   "cell_type": "code",
   "execution_count": 6,
   "id": "aefca5c2-b2cc-4bd9-b701-1544b9b2d0a1",
   "metadata": {},
   "outputs": [
    {
     "data": {
      "text/plain": [
       "['war', 'park', 'car']"
      ]
     },
     "execution_count": 6,
     "metadata": {},
     "output_type": "execute_result"
    }
   ],
   "source": [
    "def swap(list, sp1, sp2): #Swaps the \n",
    "    temp = list[sp1]\n",
    "    list[sp1] = list[sp2]\n",
    "    list[sp2] = temp\n",
    "lists = ['car','park','war']\n",
    "swap(lists, 0, 2)\n",
    "lists"
   ]
  },
  {
   "cell_type": "code",
   "execution_count": null,
   "id": "d50beda6-b618-40d3-a6eb-de4e76ee2862",
   "metadata": {},
   "outputs": [],
   "source": []
  }
 ],
 "metadata": {
  "kernelspec": {
   "display_name": "Python 3 (ipykernel)",
   "language": "python",
   "name": "python3"
  },
  "language_info": {
   "codemirror_mode": {
    "name": "ipython",
    "version": 3
   },
   "file_extension": ".py",
   "mimetype": "text/x-python",
   "name": "python",
   "nbconvert_exporter": "python",
   "pygments_lexer": "ipython3",
   "version": "3.9.1"
  }
 },
 "nbformat": 4,
 "nbformat_minor": 5
}
