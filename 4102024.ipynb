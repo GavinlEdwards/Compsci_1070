{
 "cells": [
  {
   "cell_type": "code",
   "execution_count": 18,
   "id": "cf8b3ada-de74-43b5-b912-f828809cffbe",
   "metadata": {},
   "outputs": [
    {
     "name": "stdout",
     "output_type": "stream",
     "text": [
      "['Cory', 'Tori', 'Evan', 'and Will']\n"
     ]
    }
   ],
   "source": [
    "def name_lister (names: list) -> list:\n",
    "    list = []\n",
    "    names = names.split(', ')\n",
    "    return names    \n",
    "name = \"Cory, Tori, Evan, and Will\"\n",
    "print(name_lister(name))"
   ]
  },
  {
   "cell_type": "code",
   "execution_count": null,
   "id": "94b0e544-fb86-415e-a90b-901f5d7ac440",
   "metadata": {},
   "outputs": [],
   "source": []
  },
  {
   "cell_type": "code",
   "execution_count": null,
   "id": "abc723bb-26db-41db-9135-0bae27025ac7",
   "metadata": {},
   "outputs": [],
   "source": []
  }
 ],
 "metadata": {
  "kernelspec": {
   "display_name": "Python 3 (ipykernel)",
   "language": "python",
   "name": "python3"
  },
  "language_info": {
   "codemirror_mode": {
    "name": "ipython",
    "version": 3
   },
   "file_extension": ".py",
   "mimetype": "text/x-python",
   "name": "python",
   "nbconvert_exporter": "python",
   "pygments_lexer": "ipython3",
   "version": "3.9.1"
  }
 },
 "nbformat": 4,
 "nbformat_minor": 5
}
