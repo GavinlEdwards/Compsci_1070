{
 "cells": [
  {
   "cell_type": "markdown",
   "id": "ebaac818-3d9b-49b1-9c2c-9d6e30be42d7",
   "metadata": {},
   "source": [
    "#1. Working with Brady, plan on dedicating three hours a week at least until the due date, it'll be easy to coordinate as we live in the same building. \n",
    "\n",
    "#2. Sharadar fund prices sample dataset on the nasdaq data link. \n",
    "\n",
    "#3. Null Hypothesis: The opening and closing prices of a stock in the past will not effect future opening and closing prices. Alternative: The opening and #closing prices of a stock in the past will effect future opening and closing prices.\n",
    "\n",
    "#4. Multivariate linear regression, Boosting, Bagging and possibly KNN. \n",
    "\n",
    "#5. https://data.nasdaq.com/databases/SEP#anchor-sample-data"
   ]
  },
  {
   "cell_type": "code",
   "execution_count": null,
   "id": "a2cf1fba-f7ef-462b-9d3d-63c27e3faeb0",
   "metadata": {},
   "outputs": [],
   "source": []
  }
 ],
 "metadata": {
  "kernelspec": {
   "display_name": "Python 3 (ipykernel)",
   "language": "python",
   "name": "python3"
  },
  "language_info": {
   "codemirror_mode": {
    "name": "ipython",
    "version": 3
   },
   "file_extension": ".py",
   "mimetype": "text/x-python",
   "name": "python",
   "nbconvert_exporter": "python",
   "pygments_lexer": "ipython3",
   "version": "3.9.1"
  }
 },
 "nbformat": 4,
 "nbformat_minor": 5
}
