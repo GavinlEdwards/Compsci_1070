{
 "cells": [
  {
   "cell_type": "code",
   "execution_count": 21,
   "id": "10789801-504e-4d49-bedc-40b93ee1c7a8",
   "metadata": {},
   "outputs": [
    {
     "data": {
      "text/html": [
       "<div>\n",
       "<style scoped>\n",
       "    .dataframe tbody tr th:only-of-type {\n",
       "        vertical-align: middle;\n",
       "    }\n",
       "\n",
       "    .dataframe tbody tr th {\n",
       "        vertical-align: top;\n",
       "    }\n",
       "\n",
       "    .dataframe thead th {\n",
       "        text-align: right;\n",
       "    }\n",
       "</style>\n",
       "<table border=\"1\" class=\"dataframe\">\n",
       "  <thead>\n",
       "    <tr style=\"text-align: right;\">\n",
       "      <th></th>\n",
       "      <th>price</th>\n",
       "      <th>number_of_reviews</th>\n",
       "      <th>availability_365</th>\n",
       "    </tr>\n",
       "    <tr>\n",
       "      <th>neighbourhood</th>\n",
       "      <th></th>\n",
       "      <th></th>\n",
       "      <th></th>\n",
       "    </tr>\n",
       "  </thead>\n",
       "  <tbody>\n",
       "    <tr>\n",
       "      <th>Belize Islands</th>\n",
       "      <td>399.442824</td>\n",
       "      <td>1303</td>\n",
       "      <td>365</td>\n",
       "    </tr>\n",
       "    <tr>\n",
       "      <th>Belize Mainland</th>\n",
       "      <td>288.273063</td>\n",
       "      <td>271</td>\n",
       "      <td>365</td>\n",
       "    </tr>\n",
       "    <tr>\n",
       "      <th>Cayo</th>\n",
       "      <td>205.847525</td>\n",
       "      <td>505</td>\n",
       "      <td>365</td>\n",
       "    </tr>\n",
       "    <tr>\n",
       "      <th>Corozal</th>\n",
       "      <td>156.553846</td>\n",
       "      <td>65</td>\n",
       "      <td>365</td>\n",
       "    </tr>\n",
       "    <tr>\n",
       "      <th>Orange Walk</th>\n",
       "      <td>122.035714</td>\n",
       "      <td>28</td>\n",
       "      <td>365</td>\n",
       "    </tr>\n",
       "  </tbody>\n",
       "</table>\n",
       "</div>"
      ],
      "text/plain": [
       "                      price  number_of_reviews  availability_365\n",
       "neighbourhood                                                   \n",
       "Belize Islands   399.442824               1303               365\n",
       "Belize Mainland  288.273063                271               365\n",
       "Cayo             205.847525                505               365\n",
       "Corozal          156.553846                 65               365\n",
       "Orange Walk      122.035714                 28               365"
      ]
     },
     "execution_count": 21,
     "metadata": {},
     "output_type": "execute_result"
    }
   ],
   "source": [
    "import numpy as np\n",
    "import pandas as pd\n",
    "\n",
    "#modules for statistics\n",
    "import math\n",
    "import statistics\n",
    "from scipy import stats\n",
    "\n",
    "belize_listings_path = \"belize_airbnb_listings.csv\"\n",
    "belize_df = pd.read_csv(belize_listings_path)\n",
    "\n",
    "\n",
    "grouped_belize_df = belize_df.groupby('neighbourhood')\n",
    "grouped_belize_df['price'].mean()\n",
    "price_mean = grouped_belize_df['price'].mean()\n",
    "mean_price_df = pd.DataFrame(price_mean)\n",
    "count = grouped_belize_df['number_of_reviews'].count()\n",
    "aval = grouped_belize_df['availability_365'].max()\n",
    "count_of_reviews_df = pd.DataFrame(count)\n",
    "availability_max_365_df = pd.DataFrame(aval)\n",
    "merge_1_df = pd.merge(mean_price_df, count_of_reviews_df, on='neighbourhood')\n",
    "merge_2_df = pd.merge(merge_1_df, availability_max_365_df, on='neighbourhood')\n",
    "merge_2_df.head()\n",
    "#merge_2_df is the final dataframe"
   ]
  },
  {
   "cell_type": "code",
   "execution_count": 11,
   "id": "5dcde67e-12a2-4143-b4db-7b7cff9d549b",
   "metadata": {},
   "outputs": [
    {
     "data": {
      "text/plain": [
       "neighbourhood\n",
       "Belize Islands          1303\n",
       "Belize Mainland          271\n",
       "Cayo                     505\n",
       "Corozal                   65\n",
       "Orange Walk               28\n",
       "Stann Creek Islands       12\n",
       "Stann Creek Mainland     565\n",
       "Toledo Mainland           47\n",
       "Name: number_of_reviews, dtype: int64"
      ]
     },
     "execution_count": 11,
     "metadata": {},
     "output_type": "execute_result"
    }
   ],
   "source": [
    "grouped_belize_df['number_of_reviews'].count()"
   ]
  },
  {
   "cell_type": "code",
   "execution_count": 14,
   "id": "ed29b8f5-b890-427a-8435-cb0372ebc1ef",
   "metadata": {},
   "outputs": [
    {
     "data": {
      "text/plain": [
       "neighbourhood\n",
       "Belize Islands          365\n",
       "Belize Mainland         365\n",
       "Cayo                    365\n",
       "Corozal                 365\n",
       "Orange Walk             365\n",
       "Stann Creek Islands     365\n",
       "Stann Creek Mainland    365\n",
       "Toledo Mainland         365\n",
       "Name: availability_365, dtype: int64"
      ]
     },
     "execution_count": 14,
     "metadata": {},
     "output_type": "execute_result"
    }
   ],
   "source": [
    "grouped_belize_df['availability_365'].max()"
   ]
  },
  {
   "cell_type": "code",
   "execution_count": null,
   "id": "13f8c591-ada4-46b7-8343-cf5a6cec3b2b",
   "metadata": {},
   "outputs": [],
   "source": []
  }
 ],
 "metadata": {
  "kernelspec": {
   "display_name": "Python 3 (ipykernel)",
   "language": "python",
   "name": "python3"
  },
  "language_info": {
   "codemirror_mode": {
    "name": "ipython",
    "version": 3
   },
   "file_extension": ".py",
   "mimetype": "text/x-python",
   "name": "python",
   "nbconvert_exporter": "python",
   "pygments_lexer": "ipython3",
   "version": "3.9.1"
  }
 },
 "nbformat": 4,
 "nbformat_minor": 5
}
