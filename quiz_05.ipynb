{
 "cells": [
  {
   "cell_type": "code",
   "execution_count": 51,
   "id": "47c39463-3473-47ee-81d0-f1642453d548",
   "metadata": {},
   "outputs": [
    {
     "data": {
      "text/plain": [
       "[2, 4, 6, 8, 10, 12, -11, -9, -7, -5, -3, -1]"
      ]
     },
     "execution_count": 51,
     "metadata": {},
     "output_type": "execute_result"
    }
   ],
   "source": [
    "import numpy as np\n",
    "import pandas as pd\n",
    "\n",
    "original_list = [-1,2,-3,4,-5,6,-7,8,-9,10,-11,12]\n",
    "original_list = sorted(original_list, key = lambda x: (0 if x>0 else 1,abs(x) if x>0 else x))\n",
    "original_list"
   ]
  },
  {
   "cell_type": "code",
   "execution_count": 57,
   "id": "fcde25b0-0340-4c9c-808f-8d102c819bdb",
   "metadata": {},
   "outputs": [
    {
     "data": {
      "text/plain": [
       "Index(['Show Number', ' Air Date', ' Round', ' Category', ' Value',\n",
       "       ' Question', ' Answer'],\n",
       "      dtype='object')"
      ]
     },
     "execution_count": 57,
     "metadata": {},
     "output_type": "execute_result"
    }
   ],
   "source": [
    "jeo_df = pd.read_csv('JEOPARDY_DATA.csv')\n",
    "\n",
    "jeo_df.columns"
   ]
  },
  {
   "cell_type": "code",
   "execution_count": 58,
   "id": "99981287-2c53-4256-ac21-e6aebba5f05e",
   "metadata": {},
   "outputs": [],
   "source": [
    "jeo_df[' Round'] = jeo_df[' Round'].str.replace(' ','')"
   ]
  },
  {
   "cell_type": "code",
   "execution_count": 59,
   "id": "664474ec-3517-4917-9b1c-75beedec98b0",
   "metadata": {},
   "outputs": [
    {
     "data": {
      "text/plain": [
       "0               Jeopardy!\n",
       "1               Jeopardy!\n",
       "2               Jeopardy!\n",
       "3               Jeopardy!\n",
       "4               Jeopardy!\n",
       "               ...       \n",
       "216925    DoubleJeopardy!\n",
       "216926    DoubleJeopardy!\n",
       "216927    DoubleJeopardy!\n",
       "216928    DoubleJeopardy!\n",
       "216929     FinalJeopardy!\n",
       "Name:  Round, Length: 216930, dtype: object"
      ]
     },
     "execution_count": 59,
     "metadata": {},
     "output_type": "execute_result"
    }
   ],
   "source": [
    "jeo_df[' Round']"
   ]
  },
  {
   "cell_type": "code",
   "execution_count": 60,
   "id": "350982a7-81e6-4cf5-9ecd-cf1ec09c602d",
   "metadata": {},
   "outputs": [
    {
     "data": {
      "text/plain": [
       "0         1\n",
       "1         1\n",
       "2         1\n",
       "3         1\n",
       "4         1\n",
       "         ..\n",
       "216925    2\n",
       "216926    2\n",
       "216927    2\n",
       "216928    2\n",
       "216929    3\n",
       "Name:  Round, Length: 216930, dtype: int32"
      ]
     },
     "execution_count": 60,
     "metadata": {},
     "output_type": "execute_result"
    }
   ],
   "source": [
    "jeo_df[' Round'] = np.where(jeo_df[' Round'] =='Jeopardy!',1, np.where(jeo_df[' Round'] == 'DoubleJeopardy!',2,np.where(jeo_df[' Round'] == 'FinalJeopardy!',3,4)))\n",
    "jeo_df[' Round']"
   ]
  },
  {
   "cell_type": "code",
   "execution_count": null,
   "id": "a3572172-a512-4733-8334-caba9286f660",
   "metadata": {},
   "outputs": [],
   "source": []
  },
  {
   "cell_type": "code",
   "execution_count": null,
   "id": "2713ccd7-96a3-4baa-8c00-c9cb6bab5328",
   "metadata": {},
   "outputs": [],
   "source": []
  }
 ],
 "metadata": {
  "kernelspec": {
   "display_name": "Python 3 (ipykernel)",
   "language": "python",
   "name": "python3"
  },
  "language_info": {
   "codemirror_mode": {
    "name": "ipython",
    "version": 3
   },
   "file_extension": ".py",
   "mimetype": "text/x-python",
   "name": "python",
   "nbconvert_exporter": "python",
   "pygments_lexer": "ipython3",
   "version": "3.9.1"
  }
 },
 "nbformat": 4,
 "nbformat_minor": 5
}
